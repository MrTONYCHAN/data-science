{
 "cells": [
  {
   "cell_type": "code",
   "execution_count": null,
   "metadata": {},
   "outputs": [],
   "source": [
    "from IPython.display import HTML\n",
    "\n",
    "hide_me = ''\n",
    "HTML('''<script>\n",
    "code_show=true; \n",
    "function code_toggle() {\n",
    "  if (code_show) {\n",
    "    $('div.input').each(function(id) {\n",
    "      el = $(this).find('.cm-variable:first');\n",
    "      if (id == 0 || el.text() == 'hide_me') {\n",
    "        $(this).hide();\n",
    "      }\n",
    "      el = $(this).find('.cm-comment:first')\n",
    "      if (id == 0 || el.text() == '# hide_me') {\n",
    "        $(this).hide();\n",
    "      }\n",
    "    });\n",
    "    $('div.output_prompt').css('opacity', 0);\n",
    "  } else {\n",
    "    $('div.input').each(function(id) {\n",
    "      $(this).show();\n",
    "    });\n",
    "    $('div.output_prompt').css('opacity', 1);\n",
    "  }\n",
    "  code_show = !code_show\n",
    "} \n",
    "$( document ).ready(code_toggle);\n",
    "</script>\n",
    "<form action=\"javascript:code_toggle()\"><input style=\"opacity:0\" type=\"submit\" value=\"Click here to toggle on/off the raw code.\"></form>''')"
   ]
  },
  {
   "cell_type": "markdown",
   "metadata": {},
   "source": [
    "## Exercise\n",
    "\n",
    "Solve the following equation using addition.\n",
    "\n",
    "$$x + (-6) = 5$$"
   ]
  },
  {
   "cell_type": "code",
   "execution_count": null,
   "metadata": {
    "deletable": false,
    "nbgrader": {
     "cell_type": "code",
     "checksum": "498da93d4fd4f4525865d14c7087a92e",
     "grade": false,
     "grade_id": "cell-2e081926423a22fd",
     "locked": false,
     "schema_version": 3,
     "solution": true,
     "task": false
    }
   },
   "outputs": [],
   "source": [
    "from sympy import symbols, Eq, simplify\n",
    "\n",
    "def ex():\n",
    "    x = symbols('x')\n",
    "\n",
    "    eq1 = Eq(x + (-6), 5)\n",
    "    \n",
    "    # YOUR CODE HERE\n",
    "    raise NotImplementedError()\n",
    "\n",
    "    return(eq1)\n",
    "\n",
    "ex()  # Test out results"
   ]
  },
  {
   "cell_type": "code",
   "execution_count": null,
   "metadata": {
    "deletable": false,
    "editable": false,
    "nbgrader": {
     "cell_type": "code",
     "checksum": "3a60439d9ae860488ebfad2d781026f3",
     "grade": true,
     "grade_id": "cell-8d40c6a389ad40d4",
     "locked": true,
     "points": 0,
     "schema_version": 3,
     "solution": false,
     "task": false
    }
   },
   "outputs": [],
   "source": [
    "# hide_me\n",
    "# Unit tests\n",
    "import inspect\n",
    "\n",
    "assert 'ex' in locals(), 'Please keep the function name as `ex`'\n",
    "assert (simplify(ex()) == Eq(symbols('x'), 11)), 'The final answer for x is incorrect'\n",
    "assert '.lhs' in inspect.getsource(ex), 'You should use the lhs method to modify the left of the equation'\n",
    "assert '.lhs' in inspect.getsource(ex), 'You should use the rhs method to modify the right of the equation'\n",
    "assert 'solve' not in inspect.getsource(ex), 'Do not use the `solve()` function to get the answer'\n",
    "assert type(ex()) == Eq, 'Your function should return an SymPy equation'\n",
    "\n",
    "print(\"Great job!\")"
   ]
  },
  {
   "cell_type": "code",
   "execution_count": null,
   "metadata": {},
   "outputs": [],
   "source": []
  }
 ],
 "metadata": {
  "kernelspec": {
   "display_name": "Python 3",
   "language": "python",
   "name": "python3"
  },
  "language_info": {
   "codemirror_mode": {
    "name": "ipython",
    "version": 3
   },
   "file_extension": ".py",
   "mimetype": "text/x-python",
   "name": "python",
   "nbconvert_exporter": "python",
   "pygments_lexer": "ipython3",
   "version": "3.7.7"
  }
 },
 "nbformat": 4,
 "nbformat_minor": 4
}
