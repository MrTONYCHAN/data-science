{
 "cells": [
  {
   "cell_type": "markdown",
   "metadata": {},
   "source": [
    "# Solving equations by addition"
   ]
  },
  {
   "cell_type": "markdown",
   "metadata": {},
   "source": [
    "Let's solve a linear equation using addition.\n",
    "\n",
    "**Note**: Lesson inspired by https://www.basic-mathematics.com/solving-equations-using-addition.html"
   ]
  },
  {
   "cell_type": "markdown",
   "metadata": {},
   "source": [
    "Here we import a few functions from SymPy. Each of these functions will be explained."
   ]
  },
  {
   "cell_type": "code",
   "execution_count": 1,
   "metadata": {},
   "outputs": [],
   "source": [
    "from sympy import symbols, Eq, simplify, solve"
   ]
  },
  {
   "cell_type": "markdown",
   "metadata": {},
   "source": [
    "## Overview\n",
    "\n",
    "Given we have an equation\n",
    "\n",
    "$$x + -b = c$$\n",
    "\n",
    "we want to solve for the value of $x$.\n",
    "\n",
    "We need to \"move\" the $b$ value over to the other side so we can have $x$ by itself.\n",
    "\n",
    "Notice the negative or minus sign in front of $b$. We can add a postive version of the negative $b$ to move it over to the other side.\n",
    "\n",
    "$$x + -b + b = c + b$$\n",
    "\n",
    "Once we do this, the negative and positive $b$ values will cancel out to zero.\n",
    "\n",
    "$$x + 0 = c + b$$\n",
    "\n",
    "This will simplify to having $x$ on one side like we want it to.\n",
    "\n",
    "$$x = c + b$$"
   ]
  },
  {
   "cell_type": "markdown",
   "metadata": {},
   "source": [
    "## Setup\n",
    "\n",
    "The above uses variables instead of numbers. Let's play around with this ourselves with Python and SymPy using real numbers.\n",
    "\n",
    "Let's say we want to solve for $x$ in the following equation.\n",
    "\n",
    "$$x + (-2) = 8$$\n",
    "\n",
    "First we need to create our $x$ variable for our equation using the `symbols()` function."
   ]
  },
  {
   "cell_type": "code",
   "execution_count": 3,
   "metadata": {},
   "outputs": [],
   "source": [
    "x = symbols('x')"
   ]
  },
  {
   "cell_type": "markdown",
   "metadata": {},
   "source": [
    "We can write Python code very similar to our equation above.\n",
    "\n",
    "Let us define our equation. This can be done using the `Eq()` function.\n",
    "\n",
    "The first and second arguments for this function are the left and right sides of the equal side, respectively."
   ]
  },
  {
   "cell_type": "code",
   "execution_count": 10,
   "metadata": {},
   "outputs": [
    {
     "data": {
      "text/latex": [
       "$\\displaystyle x - 2 = 8$"
      ],
      "text/plain": [
       "Eq(x - 2, 8)"
      ]
     },
     "execution_count": 10,
     "metadata": {},
     "output_type": "execute_result"
    }
   ],
   "source": [
    "eq1 = Eq(x + (-2), 8)\n",
    "eq1"
   ]
  },
  {
   "cell_type": "markdown",
   "metadata": {},
   "source": [
    "You may notice the left side of our equation looks a bit different from above, which was $x + (-2)$.\n",
    "\n",
    "These two expressions are equal and Python can check this for us."
   ]
  },
  {
   "cell_type": "code",
   "execution_count": 5,
   "metadata": {},
   "outputs": [
    {
     "data": {
      "text/plain": [
       "True"
      ]
     },
     "execution_count": 5,
     "metadata": {},
     "output_type": "execute_result"
    }
   ],
   "source": [
    "x + (-2) == x - 2"
   ]
  },
  {
   "cell_type": "markdown",
   "metadata": {},
   "source": [
    "## Using Python and SymPy to Help Us"
   ]
  },
  {
   "cell_type": "markdown",
   "metadata": {},
   "source": [
    "Another great thing about Python and SymPy is that we can solve our equation using the `solve()` function. Why show this? Because we can have an end point we can go towards to check our math work immediately.\n",
    "\n",
    "The `solve()` function takes two parameters, the first one is the equation and the second one is variable symbol you want to solve for."
   ]
  },
  {
   "cell_type": "code",
   "execution_count": 11,
   "metadata": {},
   "outputs": [
    {
     "data": {
      "text/plain": [
       "[10]"
      ]
     },
     "execution_count": 11,
     "metadata": {},
     "output_type": "execute_result"
    }
   ],
   "source": [
    "solve(eq1, x)"
   ]
  },
  {
   "cell_type": "markdown",
   "metadata": {},
   "source": [
    "This tells us that solving for $x$ in our equation $x + (-2) = 8$ requires $x$ to be $10$, or $x = 10$.\n",
    "\n",
    "Let's use math to double check this."
   ]
  },
  {
   "cell_type": "markdown",
   "metadata": {},
   "source": [
    "## Adding on both sides\n",
    "\n",
    "Based on our Overview above, we want to add the positive version of our values on both sides of the equation.\n",
    "\n",
    "We can access the left hand side and the right hand side using the methods `.lhs` and `rhs` on our equation object, respectively."
   ]
  },
  {
   "cell_type": "code",
   "execution_count": 9,
   "metadata": {},
   "outputs": [
    {
     "data": {
      "text/latex": [
       "$\\displaystyle x - 2$"
      ],
      "text/plain": [
       "x - 2"
      ]
     },
     "execution_count": 9,
     "metadata": {},
     "output_type": "execute_result"
    }
   ],
   "source": [
    "# Left side of the equals\n",
    "eq1.lhs"
   ]
  },
  {
   "cell_type": "code",
   "execution_count": 12,
   "metadata": {},
   "outputs": [
    {
     "data": {
      "text/latex": [
       "$\\displaystyle 8$"
      ],
      "text/plain": [
       "8"
      ]
     },
     "execution_count": 12,
     "metadata": {},
     "output_type": "execute_result"
    }
   ],
   "source": [
    "# Right side of the equals\n",
    "eq1.rhs"
   ]
  },
  {
   "cell_type": "markdown",
   "metadata": {},
   "source": [
    "Now that we have the left and right sides, let's add the positive version of 2 because we are subtracting from it."
   ]
  },
  {
   "cell_type": "code",
   "execution_count": 14,
   "metadata": {},
   "outputs": [
    {
     "data": {
      "text/latex": [
       "$\\displaystyle x = 10$"
      ],
      "text/plain": [
       "Eq(x, 10)"
      ]
     },
     "execution_count": 14,
     "metadata": {},
     "output_type": "execute_result"
    }
   ],
   "source": [
    "eq1 = Eq(eq1.lhs + 2, eq1.rhs + 2)\n",
    "eq1"
   ]
  },
  {
   "cell_type": "markdown",
   "metadata": {},
   "source": [
    "## Exercise\n",
    "\n",
    "Solve the following equation using addition.\n",
    "\n",
    "$$x + (-6) = 5$$\n",
    "\n",
    "**Hint**: Start by translating the math equation in to a SymPy equation using the `Eq()` function."
   ]
  },
  {
   "cell_type": "code",
   "execution_count": null,
   "metadata": {},
   "outputs": [],
   "source": []
  }
 ],
 "metadata": {
  "kernelspec": {
   "display_name": "Python 3",
   "language": "python",
   "name": "python3"
  },
  "language_info": {
   "codemirror_mode": {
    "name": "ipython",
    "version": 3
   },
   "file_extension": ".py",
   "mimetype": "text/x-python",
   "name": "python",
   "nbconvert_exporter": "python",
   "pygments_lexer": "ipython3",
   "version": "3.7.7"
  }
 },
 "nbformat": 4,
 "nbformat_minor": 4
}
