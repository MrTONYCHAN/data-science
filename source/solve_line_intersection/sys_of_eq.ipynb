{
 "cells": [
  {
   "cell_type": "code",
   "execution_count": 4,
   "metadata": {},
   "outputs": [
    {
     "data": {
      "text/html": [
       "<script>\n",
       "code_show=true; \n",
       "function code_toggle() {\n",
       "  if (code_show) {\n",
       "    $('div.input').each(function(id) {\n",
       "      el = $(this).find('.cm-variable:first');\n",
       "      if (id == 0 || el.text() == 'hide_me') {\n",
       "        $(this).hide();\n",
       "      }\n",
       "      el = $(this).find('.cm-comment:first')\n",
       "      if (id == 0 || el.text() == '#hide_me') {\n",
       "        $(this).hide();\n",
       "      }\n",
       "    });\n",
       "    $('div.output_prompt').css('opacity', 0);\n",
       "  } else {\n",
       "    $('div.input').each(function(id) {\n",
       "      $(this).show();\n",
       "    });\n",
       "    $('div.output_prompt').css('opacity', 1);\n",
       "  }\n",
       "  code_show = !code_show\n",
       "} \n",
       "$( document ).ready(code_toggle);\n",
       "</script>\n",
       "<form action=\"javascript:code_toggle()\"><input style=\"opacity:0\" type=\"submit\" value=\"Click here to toggle on/off the raw code.\"></form>"
      ],
      "text/plain": [
       "<IPython.core.display.HTML object>"
      ]
     },
     "execution_count": 4,
     "metadata": {},
     "output_type": "execute_result"
    }
   ],
   "source": [
    "from IPython.display import HTML\n",
    "\n",
    "hide_me = ''\n",
    "HTML('''<script>\n",
    "code_show=true; \n",
    "function code_toggle() {\n",
    "  if (code_show) {\n",
    "    $('div.input').each(function(id) {\n",
    "      el = $(this).find('.cm-variable:first');\n",
    "      if (id == 0 || el.text() == 'hide_me') {\n",
    "        $(this).hide();\n",
    "      }\n",
    "      el = $(this).find('.cm-comment:first')\n",
    "      if (id == 0 || el.text() == '#hide_me') {\n",
    "        $(this).hide();\n",
    "      }\n",
    "    });\n",
    "    $('div.output_prompt').css('opacity', 0);\n",
    "  } else {\n",
    "    $('div.input').each(function(id) {\n",
    "      $(this).show();\n",
    "    });\n",
    "    $('div.output_prompt').css('opacity', 1);\n",
    "  }\n",
    "  code_show = !code_show\n",
    "} \n",
    "$( document ).ready(code_toggle);\n",
    "</script>\n",
    "<form action=\"javascript:code_toggle()\"><input style=\"opacity:0\" type=\"submit\" value=\"Click here to toggle on/off the raw code.\"></form>''')"
   ]
  },
  {
   "cell_type": "markdown",
   "metadata": {},
   "source": [
    "## Exercise\n",
    "\n",
    "Solve this system of equations.\n",
    "\n",
    "$$\n",
    "\\begin{equation}\n",
    "  \\begin{cases}\n",
    "    y = x + 3 \\\\ \n",
    "    y - 12 = -2x \n",
    "  \\end{cases}\n",
    "\\end{equation}\n",
    "$$"
   ]
  },
  {
   "cell_type": "code",
   "execution_count": 8,
   "metadata": {},
   "outputs": [
    {
     "data": {
      "text/latex": [
       "$\\displaystyle y = x + 3$"
      ],
      "text/plain": [
       "Eq(y, x + 3)"
      ]
     },
     "metadata": {},
     "output_type": "display_data"
    },
    {
     "data": {
      "text/latex": [
       "$\\displaystyle y - 12 = - 2 x$"
      ],
      "text/plain": [
       "Eq(y - 12, -2*x)"
      ]
     },
     "metadata": {},
     "output_type": "display_data"
    },
    {
     "data": {
      "text/latex": [
       "$\\displaystyle y = 12 - 2 x$"
      ],
      "text/plain": [
       "Eq(y, 12 - 2*x)"
      ]
     },
     "metadata": {},
     "output_type": "display_data"
    },
    {
     "name": "stdout",
     "output_type": "stream",
     "text": [
      "Your answer:\n"
     ]
    },
    {
     "data": {
      "text/latex": [
       "$\\displaystyle x = 0$"
      ],
      "text/plain": [
       "Eq(x, 0)"
      ]
     },
     "metadata": {},
     "output_type": "display_data"
    },
    {
     "data": {
      "text/latex": [
       "$\\displaystyle y = 0$"
      ],
      "text/plain": [
       "Eq(y, 0)"
      ]
     },
     "metadata": {},
     "output_type": "display_data"
    }
   ],
   "source": [
    "from sympy import symbols, Eq, simplify\n",
    "from sympy.plotting import plot\n",
    "from sympy.interactive import printing\n",
    "\n",
    "\n",
    "def ex():\n",
    "    x, y = symbols('x y')\n",
    "    x_ans = Eq(x, 0)\n",
    "    y_ans = Eq(y, 0)\n",
    "\n",
    "    eq1 = Eq(y, x + 3)\n",
    "    eq2 = Eq(y - 12, -2*x)\n",
    "    display(eq1)\n",
    "    display(eq2)\n",
    "\n",
    "    ### BEGIN SOLUTION\n",
    "    # Solve for y in eq2\n",
    "    eq2 = Eq(eq2.lhs + 12, eq2.rhs + 12)\n",
    "    display(eq2)\n",
    "    \n",
    "    ### END SOLUTION\n",
    "        \n",
    "    return(x_ans, y_ans)\n",
    "\n",
    "\n",
    "x_ans, y_ans = ex()  # Test out results\n",
    "\n",
    "print('Your answer:')\n",
    "display(x_ans)\n",
    "display(y_ans)"
   ]
  },
  {
   "cell_type": "code",
   "execution_count": 3,
   "metadata": {
    "scrolled": true
   },
   "outputs": [
    {
     "data": {
      "image/png": "[encoded data removed]",
      "text/plain": [
       "<Figure size 432x288 with 1 Axes>"
      ]
     },
     "metadata": {
      "needs_background": "light"
     },
     "output_type": "display_data"
    }
   ],
   "source": [
    "# Scratch area\n",
    "\n",
    "from sympy.plotting import plot\n",
    "%matplotlib inline\n",
    "\n",
    "x, y = symbols('x y')\n",
    "\n",
    "p1 = plot(x + 3, show=False)\n",
    "p2 = plot(-2*x + 12, show=False)\n",
    "\n",
    "p1.extend(p2)\n",
    "p1.show()"
   ]
  },
  {
   "cell_type": "code",
   "execution_count": null,
   "metadata": {},
   "outputs": [],
   "source": [
    "# hide_me\n",
    "\n",
    "import unittest\n",
    "\n",
    "\n",
    "class TestSystemEquations(unittest.TestCase):\n",
    "#     assert 'ex' in locals(), 'Please keep the function name as `ex`'\n",
    "#     assert (simplify(ex()) == Eq(symbols('x'), 11)), 'The final answer for x is incorrect'\n",
    "#     assert '.lhs' in inspect.getsource(ex), 'You should use the lhs method to modify the left of the equation'\n",
    "#     assert '.lhs' in inspect.getsource(ex), 'You should use the rhs method to modify the right of the equation'\n",
    "#     assert 'solve' not in inspect.getsource(ex), 'Do not use the `solve()` function to get the answer'\n",
    "#     assert type(ex()) == Eq, 'Your function should return an SymPy equation'\n",
    "\n",
    "    def test_functionName(self):\n",
    "        \"\"\"Testing that you have this\"\"\"\n",
    "        self.assertEqual('foo'.upper(), 'FOO')\n",
    "\n",
    "    def test_isupper(self):\n",
    "        \"\"\"Another\"\"\"\n",
    "        self.assertTrue('Fo'.isupper())\n",
    "\n",
    "    def test_split(self):\n",
    "        s = 'hello world'\n",
    "        self.assertEqual(s.split(), ['hello', 'world'])\n",
    "        # check that s.split fails when the separator is not a string\n",
    "        with self.assertRaises(TypeError):\n",
    "            s.split(2)\n",
    "\n",
    "\n",
    "def suite():\n",
    "    suite = unittest.TestSuite()\n",
    "    suite.addTest(TestSystemEquations('test_functionName'))\n",
    "    suite.addTest(TestSystemEquations('test_isupper'))\n",
    "    suite.addTest(TestSystemEquations('test_split'))\n",
    "    return suite\n",
    "\n",
    "\n",
    "runner = unittest.TextTestRunner(verbosity=2)\n",
    "runner.run(suite())"
   ]
  },
  {
   "cell_type": "code",
   "execution_count": null,
   "metadata": {},
   "outputs": [],
   "source": []
  }
 ],
 "metadata": {
  "kernelspec": {
   "display_name": "Python 3",
   "language": "python",
   "name": "python3"
  },
  "language_info": {
   "codemirror_mode": {
    "name": "ipython",
    "version": 3
   },
   "file_extension": ".py",
   "mimetype": "text/x-python",
   "name": "python",
   "nbconvert_exporter": "python",
   "pygments_lexer": "ipython3",
   "version": "3.7.7"
  }
 },
 "nbformat": 4,
 "nbformat_minor": 4
}
