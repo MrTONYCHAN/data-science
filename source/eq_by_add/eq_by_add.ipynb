{
 "cells": [
  {
   "cell_type": "markdown",
   "metadata": {},
   "source": [
    "## Exercise\n",
    "\n",
    "Solve the following equation using addition.\n",
    "\n",
    "$$x + (-6) = 5$$"
   ]
  },
  {
   "cell_type": "code",
   "execution_count": 31,
   "metadata": {
    "nbgrader": {
     "grade": false,
     "grade_id": "cell-2e081926423a22fd",
     "locked": false,
     "schema_version": 3,
     "solution": true,
     "task": false
    }
   },
   "outputs": [
    {
     "data": {
      "text/latex": [
       "$\\displaystyle x = 11$"
      ],
      "text/plain": [
       "Eq(x, 11)"
      ]
     },
     "execution_count": 31,
     "metadata": {},
     "output_type": "execute_result"
    }
   ],
   "source": [
    "from sympy import symbols, Eq, simplify\n",
    "\n",
    "def ex():\n",
    "    x = symbols('x')\n",
    "\n",
    "    eq1 = Eq(x + (-6), 5)\n",
    "    \n",
    "    ### BEGIN SOLUTION\n",
    "    eq1 = Eq(eq1.lhs + 6, eq1.rhs + 6)\n",
    "    ### END SOLUTION\n",
    "\n",
    "    return(eq1)\n",
    "\n",
    "ex()  # Test out results"
   ]
  },
  {
   "cell_type": "code",
   "execution_count": 23,
   "metadata": {
    "nbgrader": {
     "grade": true,
     "grade_id": "cell-8d40c6a389ad40d4",
     "locked": true,
     "points": 0,
     "schema_version": 3,
     "solution": false,
     "task": false
    }
   },
   "outputs": [
    {
     "name": "stdout",
     "output_type": "stream",
     "text": [
      "Great job!\n"
     ]
    }
   ],
   "source": [
    "# Unit tests\n",
    "import inspect\n",
    "\n",
    "assert 'ex' in locals(), 'Please keep the function name as `ex`'\n",
    "assert (simplify(ex()) == Eq(symbols('x'), 11)), 'The final answer for x is incorrect'\n",
    "assert '.lhs' in inspect.getsource(ex), 'You should use the lhs method to modify the left of the equation'\n",
    "assert '.lhs' in inspect.getsource(ex), 'You should use the rhs method to modify the right of the equation'\n",
    "assert 'solve' not in inspect.getsource(ex), 'Do not use the `solve()` function to get the answer'\n",
    "assert type(ex()) == Eq, 'Your function should return an SymPy equation'\n",
    "\n",
    "print(\"Great job!\")"
   ]
  },
  {
   "cell_type": "code",
   "execution_count": 36,
   "metadata": {},
   "outputs": [
    {
     "data": {
      "text/plain": [
       "True"
      ]
     },
     "execution_count": 36,
     "metadata": {},
     "output_type": "execute_result"
    }
   ],
   "source": [
    "type(ex()) == Eq"
   ]
  },
  {
   "cell_type": "code",
   "execution_count": null,
   "metadata": {},
   "outputs": [],
   "source": []
  }
 ],
 "metadata": {
  "celltoolbar": "Create Assignment",
  "kernelspec": {
   "display_name": "Python 3",
   "language": "python",
   "name": "python3"
  },
  "language_info": {
   "codemirror_mode": {
    "name": "ipython",
    "version": 3
   },
   "file_extension": ".py",
   "mimetype": "text/x-python",
   "name": "python",
   "nbconvert_exporter": "python",
   "pygments_lexer": "ipython3",
   "version": "3.7.7"
  }
 },
 "nbformat": 4,
 "nbformat_minor": 4
}
